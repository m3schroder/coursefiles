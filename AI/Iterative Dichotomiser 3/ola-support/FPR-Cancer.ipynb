{
 "cells": [
  {
   "cell_type": "code",
   "execution_count": 1,
   "metadata": {},
   "outputs": [],
   "source": [
    "import numpy as np\n",
    "import matplotlib.pyplot as plt\n",
    "import matplotlib\n",
    "%matplotlib inline"
   ]
  },
  {
   "cell_type": "code",
   "execution_count": 2,
   "metadata": {},
   "outputs": [],
   "source": [
    "test_sizes = [1,5,10,25,50,75,90,100,104]"
   ]
  },
  {
   "cell_type": "code",
   "execution_count": 3,
   "metadata": {},
   "outputs": [],
   "source": [
    "def fpr(sample,target_class=0):\n",
    "    # Actual cases\n",
    "    subset = np.where(sample[:,0]==target_class)[0]\n",
    "    num_true = len(subset)\n",
    "    num_false_negatives = len(np.where(sample[subset,1]!=target_class)[0])\n",
    "    num_true_positives = num_true - num_false_negatives\n",
    "    # Uncomment to print the counts...\n",
    "    # print(num_true,num_true_positives,num_false_negatives)\n",
    "\n",
    "    # Cases we are not interested in\n",
    "    subset = np.where(sample[:,0]!=target_class)[0]\n",
    "    num_false = len(subset)\n",
    "    num_true_negatives = len(np.where(sample[subset,1]!=target_class)[0])\n",
    "    num_false_positives = num_false - num_true_negatives\n",
    "    # Uncomment to print the counts\n",
    "    # print(num_false,num_false_positives,num_true_negatives)\n",
    "\n",
    "    # Definition of the false positive rate (want this to be low)\n",
    "    try:\n",
    "        false_positive_ratio = float(num_false_positives) / (float(num_false_positives) + float(num_true_negatives))\n",
    "    except:\n",
    "        false_positive_ratio = 0.0\n",
    "    return false_positive_ratio * 100.0\n",
    "\n",
    "# Runs the FPR calculation on -each- random\n",
    "# sample - the average of these sample FPRs\n",
    "# is the False Positive Rate\n",
    "def calc_fpr(data,target_class=0,N=100):\n",
    "    sample_size = int(data.shape[0] / N)\n",
    "    nsamples = int(data.shape[0]/sample_size)\n",
    "    return [fpr(data[s*sample_size:(s*sample_size)+sample_size,:],target_class) for s in range(0,nsamples)]"
   ]
  },
  {
   "cell_type": "code",
   "execution_count": 4,
   "metadata": {},
   "outputs": [
    {
     "data": {
      "text/plain": [
       "6.170738814699307"
      ]
     },
     "execution_count": 4,
     "metadata": {},
     "output_type": "execute_result"
    }
   ],
   "source": [
    "# Single data set example - N=100 (2500 lines in the file)\n",
    "np.mean(calc_fpr(np.loadtxt(\"cancer-results-25.txt\")))"
   ]
  },
  {
   "cell_type": "code",
   "execution_count": 5,
   "metadata": {},
   "outputs": [],
   "source": [
    "fprs = np.array([calc_fpr(np.loadtxt(\"cancer-results-%d.txt\"%x)) for x in test_sizes]).transpose()"
   ]
  },
  {
   "cell_type": "code",
   "execution_count": 6,
   "metadata": {},
   "outputs": [
    {
     "data": {
      "text/plain": [
       "array([ 6.        ,  5.48333333,  6.77896825,  6.17073881,  5.60584995,\n",
       "        6.57349978,  9.62112211, 14.85000753, 18.        ])"
      ]
     },
     "execution_count": 6,
     "metadata": {},
     "output_type": "execute_result"
    }
   ],
   "source": [
    "means = np.mean(fprs,0)\n",
    "means"
   ]
  },
  {
   "cell_type": "code",
   "execution_count": 7,
   "metadata": {},
   "outputs": [
    {
     "data": {
      "text/plain": [
       "array([2.37486842, 1.40322941, 0.9756564 , 0.60082321, 0.45551745,\n",
       "       0.48832416, 0.8762043 , 1.778098  , 3.84187454])"
      ]
     },
     "execution_count": 7,
     "metadata": {},
     "output_type": "execute_result"
    }
   ],
   "source": [
    "stderr = np.std(fprs,0) / np.sqrt(100)\n",
    "stderr"
   ]
  },
  {
   "cell_type": "code",
   "execution_count": 11,
   "metadata": {},
   "outputs": [
    {
     "data": {
      "image/png": "[encoded data removed]",
      "text/plain": [
       "<Figure size 432x288 with 1 Axes>"
      ]
     },
     "metadata": {
      "needs_background": "light"
     },
     "output_type": "display_data"
    }
   ],
   "source": [
    "plt.bar([str(x) for x in test_sizes],means,yerr=1.96*stderr,capsize=2)\n",
    "plt.ylim(0,30)\n",
    "plt.xlabel(\"Test Set Size [N]\")\n",
    "plt.ylabel(\"False Positive Rate [%]\")\n",
    "plt.show()"
   ]
  },
  {
   "cell_type": "code",
   "execution_count": null,
   "metadata": {},
   "outputs": [],
   "source": []
  }
 ],
 "metadata": {
  "kernelspec": {
   "display_name": "Python 3",
   "language": "python",
   "name": "python3"
  },
  "language_info": {
   "codemirror_mode": {
    "name": "ipython",
    "version": 3
   },
   "file_extension": ".py",
   "mimetype": "text/x-python",
   "name": "python",
   "nbconvert_exporter": "python",
   "pygments_lexer": "ipython3",
   "version": "3.5.3"
  }
 },
 "nbformat": 4,
 "nbformat_minor": 4
}
