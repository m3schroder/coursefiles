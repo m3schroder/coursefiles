{
 "cells": [
  {
   "cell_type": "code",
   "execution_count": 1,
   "metadata": {},
   "outputs": [],
   "source": [
    "import numpy as np\n",
    "import matplotlib.pyplot as plt\n",
    "import matplotlib\n",
    "%matplotlib inline"
   ]
  },
  {
   "cell_type": "code",
   "execution_count": 2,
   "metadata": {},
   "outputs": [],
   "source": [
    "test_sizes = [1,5,10,25,50,75,100,125,140,145,149]"
   ]
  },
  {
   "cell_type": "code",
   "execution_count": 3,
   "metadata": {},
   "outputs": [],
   "source": [
    "def tpr(sample,target_class=0):\n",
    "    # Actual cases\n",
    "    subset = np.where(sample[:,0]==target_class)[0]\n",
    "    num_true = len(subset)\n",
    "    num_false_negatives = len(np.where(sample[subset,1]!=target_class)[0])\n",
    "    num_true_positives = num_true - num_false_negatives\n",
    "    # Uncomment to print the counts...\n",
    "    # print(num_true,num_true_positives,num_false_negatives)\n",
    "\n",
    "    # Cases we are not interested in\n",
    "    subset = np.where(sample[:,0]!=target_class)[0]\n",
    "    num_false = len(subset)\n",
    "    num_true_negatives = len(np.where(sample[subset,1]!=target_class)[0])\n",
    "    num_false_positives = num_false - num_true_negatives\n",
    "    # Uncomment to print the counts\n",
    "    # print(num_false,num_false_positives,num_true_negatives)\n",
    "\n",
    "    # Definition of the false positive rate (want this to be low)\n",
    "    try:\n",
    "        true_positive_ratio = float(num_true_positives) / (float(num_true_positives) + float(num_false_negatives))\n",
    "    except:\n",
    "        true_positive_ratio = 1.0\n",
    "    return true_positive_ratio * 100.0\n",
    "\n",
    "# Runs the FPR calculation on -each- random\n",
    "# sample - the average of these sample FPRs\n",
    "# is the False Positive Rate\n",
    "def calc_tpr(data,target_class=0,N=100):\n",
    "    sample_size = int(data.shape[0] / N)\n",
    "    nsamples = int(data.shape[0]/sample_size)\n",
    "    return [tpr(data[s*sample_size:(s*sample_size)+sample_size,:],target_class) for s in range(0,nsamples)]"
   ]
  },
  {
   "cell_type": "code",
   "execution_count": 4,
   "metadata": {},
   "outputs": [
    {
     "data": {
      "text/plain": [
       "90.01673049173048"
      ]
     },
     "execution_count": 4,
     "metadata": {},
     "output_type": "execute_result"
    }
   ],
   "source": [
    "# Single data set example - N=100 (2500 lines in the file)\n",
    "np.mean(calc_tpr(np.loadtxt(\"iris-results-25.txt\"),2))"
   ]
  },
  {
   "cell_type": "code",
   "execution_count": 6,
   "metadata": {},
   "outputs": [],
   "source": [
    "tprs = np.array([calc_tpr(np.loadtxt(\"iris-results-%d.txt\"%x),2) for x in test_sizes]).transpose()"
   ]
  },
  {
   "cell_type": "code",
   "execution_count": 7,
   "metadata": {},
   "outputs": [
    {
     "data": {
      "text/plain": [
       "array([97.        , 91.31666667, 90.01673049, 89.94800795, 90.07967262,\n",
       "       87.98144046, 75.71027106, 60.15585335, 35.        ])"
      ]
     },
     "execution_count": 7,
     "metadata": {},
     "output_type": "execute_result"
    }
   ],
   "source": [
    "means = np.mean(tprs,0)\n",
    "means"
   ]
  },
  {
   "cell_type": "code",
   "execution_count": 8,
   "metadata": {},
   "outputs": [
    {
     "data": {
      "text/plain": [
       "array([1.70587221, 1.45416929, 1.13175879, 0.67500414, 0.71962643,\n",
       "       1.0114917 , 2.44156159, 3.63166917, 4.76969601])"
      ]
     },
     "execution_count": 8,
     "metadata": {},
     "output_type": "execute_result"
    }
   ],
   "source": [
    "stderr = np.std(tprs,0) / np.sqrt(100)\n",
    "stderr"
   ]
  },
  {
   "cell_type": "code",
   "execution_count": 11,
   "metadata": {},
   "outputs": [
    {
     "data": {
      "image/png": "[encoded data removed]",
      "text/plain": [
       "<Figure size 432x288 with 1 Axes>"
      ]
     },
     "metadata": {
      "needs_background": "light"
     },
     "output_type": "display_data"
    }
   ],
   "source": [
    "plt.bar([str(x) for x in test_sizes],means,yerr=1.96*stderr,capsize=2)\n",
    "plt.ylim(0,100)\n",
    "plt.xlabel(\"Test Set Size [N]\")\n",
    "plt.ylabel(\"True Positive Rate [%]\")\n",
    "plt.show()"
   ]
  },
  {
   "cell_type": "code",
   "execution_count": null,
   "metadata": {},
   "outputs": [],
   "source": []
  }
 ],
 "metadata": {
  "kernelspec": {
   "display_name": "Python 3",
   "language": "python",
   "name": "python3"
  },
  "language_info": {
   "codemirror_mode": {
    "name": "ipython",
    "version": 3
   },
   "file_extension": ".py",
   "mimetype": "text/x-python",
   "name": "python",
   "nbconvert_exporter": "python",
   "pygments_lexer": "ipython3",
   "version": "3.8.5"
  }
 },
 "nbformat": 4,
 "nbformat_minor": 4
}
