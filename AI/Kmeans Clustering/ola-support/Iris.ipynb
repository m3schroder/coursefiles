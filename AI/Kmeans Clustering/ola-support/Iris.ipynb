{
 "cells": [
  {
   "cell_type": "code",
   "execution_count": 75,
   "metadata": {},
   "outputs": [],
   "source": [
    "import numpy as np\n",
    "import matplotlib.pyplot as plt\n",
    "import matplotlib\n",
    "%matplotlib inline"
   ]
  },
  {
   "cell_type": "code",
   "execution_count": 76,
   "metadata": {},
   "outputs": [],
   "source": [
    "test_sizes = [1,5,10,25,50,75,100,125,140,145,149]"
   ]
  },
  {
   "cell_type": "code",
   "execution_count": 77,
   "metadata": {},
   "outputs": [
    {
     "name": "stdout",
     "output_type": "stream",
     "text": [
      "(100, 11)\n"
     ]
    }
   ],
   "source": [
    "# Read in the data\n",
    "data = np.loadtxt(\"../results/results-iris.txt\")\n",
    "print(data.shape)\n",
    "# Convert raw counts to accuracies (%)\n",
    "data = data * 100.0 / test_sizes"
   ]
  },
  {
   "cell_type": "code",
   "execution_count": 78,
   "metadata": {},
   "outputs": [
    {
     "data": {
      "text/plain": [
       "array([41.        , 34.8       , 42.9       , 39.04      , 38.34      ,\n",
       "       37.6       , 35.79      , 31.968     , 33.32142857, 28.93103448,\n",
       "       32.88590604])"
      ]
     },
     "execution_count": 78,
     "metadata": {},
     "output_type": "execute_result"
    }
   ],
   "source": [
    "means = np.mean(data,0)\n",
    "means"
   ]
  },
  {
   "cell_type": "code",
   "execution_count": 79,
   "metadata": {},
   "outputs": [
    {
     "data": {
      "text/plain": [
       "array([4.91833305e+00, 1.75772580e+00, 1.50529067e+00, 9.03539706e-01,\n",
       "       6.56082312e-01, 6.13623120e-01, 8.60731666e-01, 8.66213461e-01,\n",
       "       1.38984565e+00, 1.23928463e+00, 3.55271368e-15])"
      ]
     },
     "execution_count": 79,
     "metadata": {},
     "output_type": "execute_result"
    }
   ],
   "source": [
    "stderr = np.std(data,0) / np.sqrt(data.shape[0])\n",
    "stderr"
   ]
  },
  {
   "cell_type": "code",
   "execution_count": 80,
   "metadata": {},
   "outputs": [
    {
     "data": {
      "image/png": "[encoded data removed]",
      "text/plain": [
       "<Figure size 432x288 with 1 Axes>"
      ]
     },
     "metadata": {
      "needs_background": "light"
     },
     "output_type": "display_data"
    }
   ],
   "source": [
    "plt.bar([str(x) for x in test_sizes],means,yerr=1.96*stderr,capsize=2)\n",
    "plt.ylim(0,100)\n",
    "plt.xlabel(\"Test Set Size [N]\")\n",
    "plt.ylabel(\"Mean Accuracy [%]\")\n",
    "plt.show()"
   ]
  },
  {
   "cell_type": "code",
   "execution_count": null,
   "metadata": {},
   "outputs": [],
   "source": []
  }
 ],
 "metadata": {
  "kernelspec": {
   "display_name": "Python 3",
   "language": "python",
   "name": "python3"
  },
  "language_info": {
   "codemirror_mode": {
    "name": "ipython",
    "version": 3
   },
   "file_extension": ".py",
   "mimetype": "text/x-python",
   "name": "python",
   "nbconvert_exporter": "python",
   "pygments_lexer": "ipython3",
   "version": "3.8.5"
  }
 },
 "nbformat": 4,
 "nbformat_minor": 4
}
