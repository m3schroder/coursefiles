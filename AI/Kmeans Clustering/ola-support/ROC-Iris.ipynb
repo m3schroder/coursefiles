{
 "cells": [
  {
   "cell_type": "code",
   "execution_count": 1,
   "metadata": {},
   "outputs": [],
   "source": [
    "import numpy as np\n",
    "import matplotlib.pyplot as plt\n",
    "import matplotlib\n",
    "%matplotlib inline"
   ]
  },
  {
   "cell_type": "code",
   "execution_count": 2,
   "metadata": {},
   "outputs": [],
   "source": [
    "test_sizes = [1,5,10,25,50,75,100,125,140,145,149]"
   ]
  },
  {
   "cell_type": "code",
   "execution_count": 3,
   "metadata": {},
   "outputs": [],
   "source": [
    "def tpr(sample,target_class=0):\n",
    "    # Actual cases\n",
    "    subset = np.where(sample[:,0]==target_class)[0]\n",
    "    num_true = len(subset)\n",
    "    num_false_negatives = len(np.where(sample[subset,1]!=target_class)[0])\n",
    "    num_true_positives = num_true - num_false_negatives\n",
    "    # Uncomment to print the counts...\n",
    "    # print(num_true,num_true_positives,num_false_negatives)\n",
    "\n",
    "    # Cases we are not interested in\n",
    "    subset = np.where(sample[:,0]!=target_class)[0]\n",
    "    num_false = len(subset)\n",
    "    num_true_negatives = len(np.where(sample[subset,1]!=target_class)[0])\n",
    "    num_false_positives = num_false - num_true_negatives\n",
    "    # Uncomment to print the counts\n",
    "    # print(num_false,num_false_positives,num_true_negatives)\n",
    "\n",
    "    # Definition of the false positive rate (want this to be low)\n",
    "    try:\n",
    "        true_positive_ratio = float(num_true_positives) / (float(num_true_positives) + float(num_false_negatives))\n",
    "    except:\n",
    "        true_positive_ratio = 1.0\n",
    "    return true_positive_ratio * 100.0\n",
    "\n",
    "# Runs the FPR calculation on -each- random\n",
    "# sample - the average of these sample FPRs\n",
    "# is the False Positive Rate\n",
    "def calc_tpr(data,target_class=0,N=100):\n",
    "    sample_size = int(data.shape[0] / N)\n",
    "    nsamples = int(data.shape[0]/sample_size)\n",
    "    return [tpr(data[s*sample_size:(s*sample_size)+sample_size,:],target_class) for s in range(0,nsamples)]"
   ]
  },
  {
   "cell_type": "code",
   "execution_count": 4,
   "metadata": {},
   "outputs": [],
   "source": [
    "def fpr(sample,target_class=0):\n",
    "    # Actual cases\n",
    "    subset = np.where(sample[:,0]==target_class)[0]\n",
    "    num_true = len(subset)\n",
    "    num_false_negatives = len(np.where(sample[subset,1]!=target_class)[0])\n",
    "    num_true_positives = num_true - num_false_negatives\n",
    "    # Uncomment to print the counts...\n",
    "    # print(num_true,num_true_positives,num_false_negatives)\n",
    "\n",
    "    # Cases we are not interested in\n",
    "    subset = np.where(sample[:,0]!=target_class)[0]\n",
    "    num_false = len(subset)\n",
    "    num_true_negatives = len(np.where(sample[subset,1]!=target_class)[0])\n",
    "    num_false_positives = num_false - num_true_negatives\n",
    "    # Uncomment to print the counts\n",
    "    # print(num_false,num_false_positives,num_true_negatives)\n",
    "\n",
    "    # Definition of the false positive rate (want this to be low)\n",
    "    try:\n",
    "        false_positive_ratio = float(num_false_positives) / (float(num_false_positives) + float(num_true_negatives))\n",
    "    except:\n",
    "        false_positive_ratio = 0.0\n",
    "    return false_positive_ratio * 100.0\n",
    "\n",
    "# Runs the FPR calculation on -each- random\n",
    "# sample - the average of these sample FPRs\n",
    "# is the False Positive Rate\n",
    "def calc_fpr(data,target_class=0,N=100):\n",
    "    sample_size = int(data.shape[0] / N)\n",
    "    nsamples = int(data.shape[0]/sample_size)\n",
    "    return [fpr(data[s*sample_size:(s*sample_size)+sample_size,:],target_class) for s in range(0,nsamples)]"
   ]
  },
  {
   "cell_type": "code",
   "execution_count": 9,
   "metadata": {},
   "outputs": [],
   "source": [
    "# Class 2 TPR/FPR\n",
    "fprs = np.array([calc_fpr(np.loadtxt(\"iris-results-%d.txt\"%x),2) for x in test_sizes]).transpose()\n",
    "tprs = np.array([calc_tpr(np.loadtxt(\"iris-results-%d.txt\"%x),2) for x in test_sizes]).transpose()"
   ]
  },
  {
   "cell_type": "code",
   "execution_count": 10,
   "metadata": {},
   "outputs": [],
   "source": [
    "fpr_means = np.mean(fprs,0)\n",
    "tpr_means = np.mean(tprs,0)\n",
    "fpr_stderr = np.std(fprs,0)/np.sqrt(100)\n",
    "tpr_stderr = np.std(tprs,0)/np.sqrt(100)"
   ]
  },
  {
   "cell_type": "code",
   "execution_count": 11,
   "metadata": {},
   "outputs": [],
   "source": [
    "# ROC is a normalized (0 to 1) estimate of the\n",
    "# distance from the \"worst case\" of TPR=100% and\n",
    "# FPR=0% - note that standard error is also\n",
    "# appropriately scaled.\n",
    "# Similar to the AUC measure used for other\n",
    "# graded classifiers - 1 is best and 0 is\n",
    "# worst, with .5 being at chance.\n",
    "roc = np.sqrt((100.0-fpr_means)**2.0 + (0.0-tpr_means)**2.0) / np.sqrt(20000)\n",
    "roc_stderr = (fpr_stderr + tpr_stderr) / 2.0 / np.sqrt(20000)"
   ]
  },
  {
   "cell_type": "code",
   "execution_count": 12,
   "metadata": {},
   "outputs": [
    {
     "data": {
      "image/png": "[encoded data removed]",
      "text/plain": [
       "<Figure size 432x288 with 1 Axes>"
      ]
     },
     "metadata": {
      "needs_background": "light"
     },
     "output_type": "display_data"
    }
   ],
   "source": [
    "plt.bar([str(x) for x in test_sizes],roc,yerr=1.96*roc_stderr,capsize=2)\n",
    "plt.ylim(0,1)\n",
    "plt.ylabel(\"ROC/AUC\")\n",
    "plt.xlabel(\"Test Set Size [N]\")\n",
    "plt.show()"
   ]
  },
  {
   "cell_type": "code",
   "execution_count": null,
   "metadata": {},
   "outputs": [],
   "source": []
  }
 ],
 "metadata": {
  "kernelspec": {
   "display_name": "Python 3",
   "language": "python",
   "name": "python3"
  },
  "language_info": {
   "codemirror_mode": {
    "name": "ipython",
    "version": 3
   },
   "file_extension": ".py",
   "mimetype": "text/x-python",
   "name": "python",
   "nbconvert_exporter": "python",
   "pygments_lexer": "ipython3",
   "version": "3.8.5"
  }
 },
 "nbformat": 4,
 "nbformat_minor": 4
}
