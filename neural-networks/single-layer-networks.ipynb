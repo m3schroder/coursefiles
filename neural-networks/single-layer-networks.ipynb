{
 "cells": [
  {
   "cell_type": "markdown",
   "metadata": {},
   "source": [
    "## Assignment\n",
    "Now that you know how to build single-layer networks and train them, you will need to explore <br>training them on\n",
    "some existing data sets, and evaluating their performance.\n",
    "1. Utilize the methods learned in the tutorial above to train a good single layer network for the Iris data set (>95%\n",
    "accuracy).\n",
    "https://www.cs.mtsu.edu/~jphillips/courses/CSCI4850-5850/public/iris-data.txt\n",
    "<br><ul>Be sure to generate a plot of the training history that shows improvement in the <br>validation accuracy (starts\n",
    "low and grows high), and also evaluate() the performance on the complete data set as shown <br>above\n",
    "demonstrating that the trained model is performing above the desired threshold.\n",
    "<br><br>\n",
    "2. Utilize the methods learned in the above tutorial to train a good single-layer classifier (>90% accuracy) for the\n",
    "Wisconsin (Diagnostic) Breast Cancer data set. \n",
    "https://www.cs.mtsu.edu/~jphillips/courses/CSCI4850-5850/public/WDBC.\n",
    "<br><ul>*This data set consists of 30 measured patient features, and integer classification labels (0,1)<br> \n",
    "    corresponding to either benign or malignant tumors. You will need to examine the data set as we did with<br>\n",
    "    the Iris data above to construct the input/target feature vectors for this task.</ul>\n",
    "<br><ul>*Finally, be sure to generate a plot of the training history showing clear signs of learning behavior<br>\n",
    "(improvement in accuracy on the validation set) and evaluate() the overall data set performance<br>\n",
    "demonstrating that the trained model is performing above the desired threshold."
   ]
  },
  {
   "cell_type": "code",
   "execution_count": 1,
   "metadata": {},
   "outputs": [],
   "source": [
    "import pandas as pd\n",
    "import numpy as np \n",
    "import matplotlib.pyplot as plt\n",
    "%matplotlib inline\n",
    "\n",
    "import tensorflow.keras as keras"
   ]
  },
  {
   "cell_type": "markdown",
   "metadata": {},
   "source": [
    "### Iris Data\n",
    "---"
   ]
  },
  {
   "cell_type": "markdown",
   "metadata": {},
   "source": [
    "#### -Prepping data-"
   ]
  },
  {
   "cell_type": "code",
   "execution_count": 2,
   "metadata": {},
   "outputs": [],
   "source": [
    "data = np.array(pd.read_table(\n",
    "\"https://www.cs.mtsu.edu/~jphillips/courses/CSCI4850-5850/public/iris-data.txt\",\n",
    "delim_whitespace=True,\n",
    "header=None))"
   ]
  },
  {
   "cell_type": "code",
   "execution_count": 3,
   "metadata": {},
   "outputs": [
    {
     "name": "stdout",
     "output_type": "stream",
     "text": [
      "(150, 5)\n"
     ]
    }
   ],
   "source": [
    "print(data.shape)"
   ]
  },
  {
   "cell_type": "code",
   "execution_count": 4,
   "metadata": {},
   "outputs": [
    {
     "name": "stdout",
     "output_type": "stream",
     "text": [
      "[1. 2. 2. 1. 0. 1. 1. 0. 1. 2. 2. 2. 1. 0. 0. 1. 1. 2. 0. 0. 1. 2. 2. 0.\n",
      " 0. 2. 2. 0. 0. 1. 0. 0. 0. 1. 1. 2. 2. 2. 2. 1. 1. 0. 1. 0. 1. 1. 0. 2.\n",
      " 2. 1. 1. 2. 0. 2. 1. 0. 2. 1. 2. 1. 0. 0. 0. 1. 0. 2. 2. 0. 0. 0. 2. 2.\n",
      " 2. 1. 0. 2. 1. 2. 2. 2. 1. 2. 1. 0. 2. 2. 2. 0. 0. 0. 0. 0. 2. 2. 1. 0.\n",
      " 1. 0. 0. 2. 0. 0. 0. 0. 1. 2. 1. 1. 1. 0. 1. 1. 0. 1. 1. 1. 2. 2. 1. 2.\n",
      " 0. 1. 1. 2. 1. 2. 0. 1. 1. 2. 2. 0. 0. 1. 2. 2. 1. 0. 0. 2. 0. 0. 1. 1.\n",
      " 1. 0. 2. 2. 2. 1.]\n"
     ]
    }
   ],
   "source": [
    "labels = data[:,4]\n",
    "print(labels)"
   ]
  },
  {
   "cell_type": "code",
   "execution_count": 5,
   "metadata": {},
   "outputs": [
    {
     "data": {
      "text/plain": [
       "(150,)"
      ]
     },
     "execution_count": 5,
     "metadata": {},
     "output_type": "execute_result"
    }
   ],
   "source": [
    "labels.shape"
   ]
  },
  {
   "cell_type": "code",
   "execution_count": 6,
   "metadata": {},
   "outputs": [],
   "source": [
    "X = data[:,0:4]"
   ]
  },
  {
   "cell_type": "code",
   "execution_count": 7,
   "metadata": {},
   "outputs": [],
   "source": [
    "Y = keras.utils.to_categorical(labels, len(np.unique(labels)))"
   ]
  },
  {
   "cell_type": "markdown",
   "metadata": {},
   "source": [
    "#### -Building model-"
   ]
  },
  {
   "cell_type": "code",
   "execution_count": 26,
   "metadata": {},
   "outputs": [],
   "source": [
    "# Initialize model type feed forward\n",
    "model = keras.Sequential()"
   ]
  },
  {
   "cell_type": "code",
   "execution_count": 27,
   "metadata": {},
   "outputs": [],
   "source": [
    "# Set intial weights for the network\n",
    "input_size = X.shape[1]\n",
    "output_size = Y.shape[1]\n",
    "\n",
    "model.add(keras.layers.Dense(output_size,\n",
    "         activation='sigmoid',\n",
    "         input_shape=[input_size]))\n",
    "\n",
    "# Specify loss function and method with which to optimize it\n",
    "model.compile(loss = keras.losses.mse, \n",
    "              optimizer = keras.optimizers.SGD(lr=0.07), \n",
    "              metrics = ['accuracy'])"
   ]
  },
  {
   "cell_type": "code",
   "execution_count": 28,
   "metadata": {},
   "outputs": [],
   "source": [
    "# Set basic training parameters\n",
    "batch_size = 16\n",
    "epochs = 1500\n",
    "validation_split = 0.5\n",
    "\n",
    "# Train the model and record the training\n",
    "# history for later examination\n",
    "\n",
    "history = model.fit(X, Y, \n",
    "                   batch_size = batch_size,\n",
    "                   epochs = epochs, \n",
    "                   verbose = 0, \n",
    "                   validation_split = validation_split)"
   ]
  },
  {
   "cell_type": "markdown",
   "metadata": {},
   "source": [
    "#### -Performance evaluation-"
   ]
  },
  {
   "cell_type": "code",
   "execution_count": 29,
   "metadata": {},
   "outputs": [
    {
     "data": {
      "image/png": "[encoded data removed]",
      "text/plain": [
       "<Figure size 432x288 with 2 Axes>"
      ]
     },
     "metadata": {
      "needs_background": "light"
     },
     "output_type": "display_data"
    }
   ],
   "source": [
    "plt.figure(1)\n",
    "\n",
    "# Summarize history for accuracy\n",
    "plt.subplot(211)\n",
    "plt.plot(history.history['accuracy'])\n",
    "plt.plot(history.history['val_accuracy'])\n",
    "plt.title('model accuracy')\n",
    "plt.ylabel('accuracy')\n",
    "plt.xlabel('epoch')\n",
    "plt.legend(['train', 'val'], loc='upper left') \n",
    "\n",
    "# Summarize history for loss\n",
    "plt.subplot(212)\n",
    "plt.plot(history.history['loss'])\n",
    "plt.plot(history.history['val_loss'])\n",
    "plt.title('model loss')\n",
    "plt.ylabel('loss')\n",
    "plt.xlabel('epoch')\n",
    "plt.legend(['train', 'val'], loc='upper left')\n",
    "-\n",
    "plt.tight_layout()\n",
    "plt.show() "
   ]
  },
  {
   "cell_type": "code",
   "execution_count": 30,
   "metadata": {},
   "outputs": [
    {
     "name": "stdout",
     "output_type": "stream",
     "text": [
      "Test loss:     0.07216458767652512\n",
      "Test accuracy: 0.9733333587646484\n"
     ]
    }
   ],
   "source": [
    "# Assessment of performance\n",
    "score = model.evaluate(X, Y, verbose = 0)\n",
    "print('Test loss:    ', score[0])\n",
    "print('Test accuracy:', score[1])"
   ]
  },
  {
   "cell_type": "markdown",
   "metadata": {},
   "source": [
    "### Cancer Data \n",
    "---"
   ]
  },
  {
   "cell_type": "markdown",
   "metadata": {},
   "source": [
    "#### -Prepping data-"
   ]
  },
  {
   "cell_type": "code",
   "execution_count": 46,
   "metadata": {},
   "outputs": [],
   "source": [
    "data = np.array(pd.read_table(\n",
    "\"https://www.cs.mtsu.edu/~jphillips/courses/CSCI4850-5850/public/WDBC.txt\",\n",
    "delim_whitespace=True,\n",
    "header=None))"
   ]
  },
  {
   "cell_type": "code",
   "execution_count": 47,
   "metadata": {},
   "outputs": [
    {
     "data": {
      "text/plain": [
       "(568, 31)"
      ]
     },
     "execution_count": 47,
     "metadata": {},
     "output_type": "execute_result"
    }
   ],
   "source": [
    "data.shape"
   ]
  },
  {
   "cell_type": "code",
   "execution_count": 48,
   "metadata": {},
   "outputs": [],
   "source": [
    "X = data[:,0:30]"
   ]
  },
  {
   "cell_type": "code",
   "execution_count": 49,
   "metadata": {},
   "outputs": [],
   "source": [
    "labels = data[:,30]\n",
    "\n",
    "Y = keras.utils.to_categorical(labels, \n",
    "                              len(np.unique(labels)))"
   ]
  },
  {
   "cell_type": "markdown",
   "metadata": {},
   "source": [
    "#### -Building model- "
   ]
  },
  {
   "cell_type": "code",
   "execution_count": 65,
   "metadata": {},
   "outputs": [],
   "source": [
    "model = keras.Sequential()"
   ]
  },
  {
   "cell_type": "code",
   "execution_count": 66,
   "metadata": {},
   "outputs": [],
   "source": [
    "input_size = X.shape[1]\n",
    "output_size = Y.shape[1]\n",
    "\n",
    "model.add(keras.layers.Dense(output_size,\n",
    "                            activation='sigmoid',\n",
    "                            input_shape=[input_size]))\n",
    "\n",
    "model.compile(loss = keras.losses.mse,\n",
    "             optimizer = keras.optimizers.SGD(lr = 0.07),\n",
    "             metrics=['accuracy'])"
   ]
  },
  {
   "cell_type": "code",
   "execution_count": 67,
   "metadata": {},
   "outputs": [],
   "source": [
    "# Setting parameters\n",
    "batch_size = 16\n",
    "epochs = 1000\n",
    "validation_split = 0.5\n",
    "\n",
    "history = model.fit(X, Y,\n",
    "                   batch_size = batch_size,\n",
    "                   epochs = epochs,\n",
    "                   validation_split = validation_split,\n",
    "                   verbose = 0)"
   ]
  },
  {
   "cell_type": "markdown",
   "metadata": {},
   "source": [
    "#### -Performance evaluation-"
   ]
  },
  {
   "cell_type": "code",
   "execution_count": 68,
   "metadata": {},
   "outputs": [
    {
     "data": {
      "image/png": "[encoded data removed]",
      "text/plain": [
       "<Figure size 432x288 with 2 Axes>"
      ]
     },
     "metadata": {
      "needs_background": "light"
     },
     "output_type": "display_data"
    }
   ],
   "source": [
    "plt.figure(1)\n",
    "\n",
    "# Summarize history for accuracy\n",
    "plt.subplot(211)\n",
    "plt.plot(history.history['accuracy'])\n",
    "plt.plot(history.history['val_accuracy'])\n",
    "plt.title('model accuracy')\n",
    "plt.ylabel('accuracy')\n",
    "plt.xlabel('epoch')\n",
    "plt.legend(['train', 'val'], loc='upper left') \n",
    "\n",
    "# Summarize history for loss\n",
    "plt.subplot(212)\n",
    "plt.plot(history.history['loss'])\n",
    "plt.plot(history.history['val_loss'])\n",
    "plt.title('model loss')\n",
    "plt.ylabel('loss')\n",
    "plt.xlabel('epoch')\n",
    "plt.legend(['train', 'val'], loc='upper left')\n",
    "\n",
    "plt.tight_layout()\n",
    "plt.show() "
   ]
  },
  {
   "cell_type": "code",
   "execution_count": 69,
   "metadata": {},
   "outputs": [
    {
     "name": "stdout",
     "output_type": "stream",
     "text": [
      "Test loss:     0.05012140050530434\n",
      "Test accuracy: 0.9436619877815247\n"
     ]
    }
   ],
   "source": [
    "# Assessment of performance\n",
    "score = model.evaluate(X, Y, verbose = 0)\n",
    "print('Test loss:    ', score[0])\n",
    "print('Test accuracy:', score[1])"
   ]
  },
  {
   "cell_type": "code",
   "execution_count": null,
   "metadata": {},
   "outputs": [],
   "source": []
  }
 ],
 "metadata": {
  "kernelspec": {
   "display_name": "Python 3",
   "language": "python",
   "name": "python3"
  },
  "language_info": {
   "codemirror_mode": {
    "name": "ipython",
    "version": 3
   },
   "file_extension": ".py",
   "mimetype": "text/x-python",
   "name": "python",
   "nbconvert_exporter": "python",
   "pygments_lexer": "ipython3",
   "version": "3.8.5"
  }
 },
 "nbformat": 4,
 "nbformat_minor": 4
}
